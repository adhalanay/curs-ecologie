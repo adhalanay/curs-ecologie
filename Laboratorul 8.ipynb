{
 "cells": [
  {
   "cell_type": "code",
   "execution_count": 1,
   "id": "f9e0f536",
   "metadata": {},
   "outputs": [
    {
     "name": "stderr",
     "output_type": "stream",
     "text": [
      "Matplotlib is building the font cache; this may take a moment.\n"
     ]
    },
    {
     "data": {
      "text/plain": [
       "(-1, -4)"
      ]
     },
     "execution_count": 1,
     "metadata": {},
     "output_type": "execute_result"
    }
   ],
   "source": [
    "A=matrix([[7,-5],[10,-8]])\n",
    "v0=vector([2,3])\n",
    "A*v0"
   ]
  },
  {
   "cell_type": "code",
   "execution_count": 2,
   "id": "36e92700",
   "metadata": {},
   "outputs": [
    {
     "data": {
      "text/plain": [
       "(-6, -12)"
      ]
     },
     "execution_count": 2,
     "metadata": {},
     "output_type": "execute_result"
    }
   ],
   "source": [
    "v1=vector([2,4])\n",
    "A*v1"
   ]
  },
  {
   "cell_type": "code",
   "execution_count": 3,
   "id": "7ea0f262",
   "metadata": {},
   "outputs": [
    {
     "data": {
      "text/plain": [
       "(-17, -26)"
      ]
     },
     "execution_count": 3,
     "metadata": {},
     "output_type": "execute_result"
    }
   ],
   "source": [
    "v2=vector([-1,2])\n",
    "A*v2"
   ]
  },
  {
   "cell_type": "code",
   "execution_count": 5,
   "id": "401061e4",
   "metadata": {},
   "outputs": [
    {
     "data": {
      "text/plain": [
       "(-4, -4)"
      ]
     },
     "execution_count": 5,
     "metadata": {},
     "output_type": "execute_result"
    }
   ],
   "source": [
    "v3=vector([-2,-2])\n",
    "A*v3"
   ]
  },
  {
   "cell_type": "code",
   "execution_count": 7,
   "id": "03d5dd54",
   "metadata": {},
   "outputs": [
    {
     "data": {
      "text/plain": [
       "[10, -2]"
      ]
     },
     "execution_count": 7,
     "metadata": {},
     "output_type": "execute_result"
    }
   ],
   "source": [
    "A=matrix([[7,9],[3,1]])\n",
    "A.eigenvalues()"
   ]
  },
  {
   "cell_type": "code",
   "execution_count": 14,
   "id": "5c82735e",
   "metadata": {},
   "outputs": [
    {
     "data": {
      "text/plain": [
       "(\n",
       "[10  0]  [  1   1]\n",
       "[ 0 -2], [1/3  -1]\n",
       ")"
      ]
     },
     "execution_count": 14,
     "metadata": {},
     "output_type": "execute_result"
    }
   ],
   "source": [
    "A.eigenmatrix_right()"
   ]
  },
  {
   "cell_type": "code",
   "execution_count": 15,
   "id": "8e871f7a",
   "metadata": {},
   "outputs": [
    {
     "data": {
      "text/plain": [
       "[(10,\n",
       "  [\n",
       "  (1, 1/3)\n",
       "  ],\n",
       "  1),\n",
       " (-2,\n",
       "  [\n",
       "  (1, -1)\n",
       "  ],\n",
       "  1)]"
      ]
     },
     "execution_count": 15,
     "metadata": {},
     "output_type": "execute_result"
    }
   ],
   "source": [
    "A.eigenvectors_right() # returnează valorile proprii, vectorii proprii corespunzători și multiplicitatea valorii proprii"
   ]
  },
  {
   "cell_type": "code",
   "execution_count": 18,
   "id": "55e27141",
   "metadata": {},
   "outputs": [
    {
     "data": {
      "text/plain": [
       "x^2 - 6*x - 8"
      ]
     },
     "execution_count": 18,
     "metadata": {},
     "output_type": "execute_result"
    }
   ],
   "source": [
    "B=matrix([[0,2],[4,6]])\n",
    "B.charpoly()"
   ]
  },
  {
   "cell_type": "code",
   "execution_count": 21,
   "id": "4aa3cd2b",
   "metadata": {},
   "outputs": [
    {
     "data": {
      "text/plain": [
       "x^2 - 11/2*x + 21/2"
      ]
     },
     "execution_count": 21,
     "metadata": {},
     "output_type": "execute_result"
    }
   ],
   "source": [
    "C=matrix([[5,-4],[2,1/2]])\n",
    "C.charpoly() # rădăcini complexe"
   ]
  },
  {
   "cell_type": "code",
   "execution_count": 27,
   "id": "3b4b4611",
   "metadata": {},
   "outputs": [
    {
     "data": {
      "text/plain": [
       "(3, -1)"
      ]
     },
     "execution_count": 27,
     "metadata": {},
     "output_type": "execute_result"
    }
   ],
   "source": [
    "M=matrix([[2,-3],[5,1]])\n",
    "N=M.inverse()\n",
    "v=vector([9,14])\n",
    "N*v"
   ]
  },
  {
   "cell_type": "code",
   "execution_count": 26,
   "id": "8fd92dc8",
   "metadata": {},
   "outputs": [
    {
     "data": {
      "text/plain": [
       "[ 1/17  3/17]\n",
       "[-5/17  2/17]"
      ]
     },
     "execution_count": 26,
     "metadata": {},
     "output_type": "execute_result"
    }
   ],
   "source": [
    "N"
   ]
  },
  {
   "cell_type": "code",
   "execution_count": 30,
   "id": "c5560b1f",
   "metadata": {},
   "outputs": [
    {
     "data": {
      "text/plain": [
       "(-41/17*x + 30/17*y, 25/17*x + 24/17*y)"
      ]
     },
     "execution_count": 30,
     "metadata": {},
     "output_type": "execute_result"
    }
   ],
   "source": [
    "x,y=var('x,y')\n",
    "X=vector([x,y])\n",
    "M1=M*matrix([[2,0],[0,-3]])*N\n",
    "M1*X"
   ]
  },
  {
   "cell_type": "code",
   "execution_count": 31,
   "id": "d7d51b9b",
   "metadata": {},
   "outputs": [
    {
     "data": {
      "text/plain": [
       "(3, 33)"
      ]
     },
     "execution_count": 31,
     "metadata": {},
     "output_type": "execute_result"
    }
   ],
   "source": [
    "M1*v"
   ]
  },
  {
   "cell_type": "code",
   "execution_count": 33,
   "id": "24b0b222",
   "metadata": {},
   "outputs": [],
   "source": [
    "C=matrix([[1,0,1],[2,1,0],[3,0,1]])\n",
    "poly=C.charpoly()"
   ]
  },
  {
   "cell_type": "code",
   "execution_count": 35,
   "id": "af4f3dc5",
   "metadata": {},
   "outputs": [
    {
     "data": {
      "text/plain": [
       "(x - 1) * (x^2 - 2*x - 2)"
      ]
     },
     "execution_count": 35,
     "metadata": {},
     "output_type": "execute_result"
    }
   ],
   "source": [
    "poly.factor()"
   ]
  },
  {
   "cell_type": "code",
   "execution_count": 36,
   "id": "84313306",
   "metadata": {},
   "outputs": [
    {
     "data": {
      "text/plain": [
       "[1, -0.732050807568878?, 2.732050807568878?]"
      ]
     },
     "execution_count": 36,
     "metadata": {},
     "output_type": "execute_result"
    }
   ],
   "source": [
    "C.eigenvalues()"
   ]
  },
  {
   "cell_type": "code",
   "execution_count": 37,
   "id": "f0a49cb4",
   "metadata": {},
   "outputs": [
    {
     "data": {
      "text/plain": [
       "(\n",
       "[                  1                   0                   0]\n",
       "[                  0 -0.732050807568878?                   0]\n",
       "[                  0                   0  2.732050807568878?],\n",
       "\n",
       "[                  0                   1                   1]\n",
       "[                  1 -1.154700538379252?  1.154700538379252?]\n",
       "[                  0 -1.732050807568878?  1.732050807568878?]\n",
       ")"
      ]
     },
     "execution_count": 37,
     "metadata": {},
     "output_type": "execute_result"
    }
   ],
   "source": [
    "C.eigenmatrix_right()"
   ]
  },
  {
   "cell_type": "code",
   "execution_count": 40,
   "id": "03dc9d38",
   "metadata": {},
   "outputs": [
    {
     "data": {
      "text/plain": [
       "[(10,\n",
       "  [\n",
       "  (1, 1/3)\n",
       "  ],\n",
       "  1),\n",
       " (-2,\n",
       "  [\n",
       "  (1, -1)\n",
       "  ],\n",
       "  1)]"
      ]
     },
     "execution_count": 40,
     "metadata": {},
     "output_type": "execute_result"
    }
   ],
   "source": [
    "A=matrix([[7,9],[3,1]])\n",
    "A.eigenvectors_right()"
   ]
  },
  {
   "cell_type": "markdown",
   "id": "74cb213d",
   "metadata": {},
   "source": [
    "Descompunerea vectorului $$v=\\left(\\begin{array}{c} 1 \\\\ 1 \\end{array}\\right)$$ în raport cu baza formată din vectorii proprii ai lui A."
   ]
  },
  {
   "cell_type": "code",
   "execution_count": 46,
   "id": "4dd77cb6",
   "metadata": {},
   "outputs": [
    {
     "data": {
      "text/plain": [
       "(3/2, -1/2)"
      ]
     },
     "execution_count": 46,
     "metadata": {},
     "output_type": "execute_result"
    }
   ],
   "source": [
    "U,V=A.eigenmatrix_right() # U este forma diagonală, iar V este matricea vectorilor proprii\n",
    "v=vector([1,1])\n",
    "V.inverse()*v"
   ]
  },
  {
   "cell_type": "code",
   "execution_count": 45,
   "id": "6399973a",
   "metadata": {},
   "outputs": [
    {
     "data": {
      "text/plain": [
       "[10  0]\n",
       "[ 0 -2]"
      ]
     },
     "execution_count": 45,
     "metadata": {},
     "output_type": "execute_result"
    }
   ],
   "source": []
  },
  {
   "cell_type": "code",
   "execution_count": null,
   "id": "7d5b3d55",
   "metadata": {},
   "outputs": [],
   "source": []
  }
 ],
 "metadata": {
  "kernelspec": {
   "display_name": "SageMath 9.5",
   "language": "sage",
   "name": "sagemath"
  },
  "language_info": {
   "codemirror_mode": {
    "name": "ipython",
    "version": 3
   },
   "file_extension": ".py",
   "mimetype": "text/x-python",
   "name": "python",
   "nbconvert_exporter": "python",
   "pygments_lexer": "ipython3",
   "version": "3.10.12"
  }
 },
 "nbformat": 4,
 "nbformat_minor": 5
}
