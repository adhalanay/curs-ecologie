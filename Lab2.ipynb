version https://git-lfs.github.com/spec/v1
oid sha256:a5e77e1f5256ab1a49213dbeff87844305ea565e0b640bf0819ac8a72186ff58
size 18109002
