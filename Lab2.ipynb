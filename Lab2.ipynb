version https://git-lfs.github.com/spec/v1
oid sha256:d2fa12b0d73cb5b39df9d3598e72cff9565977abdf5f366efd2b408eb5eb2413
size 2663
