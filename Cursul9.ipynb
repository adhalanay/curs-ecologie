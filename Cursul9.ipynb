{
 "cells": [
  {
   "cell_type": "markdown",
   "id": "a97495aa-b1fb-4ced-81e4-79039d523e1a",
   "metadata": {
    "kernel": "sagemath"
   },
   "source": [
    "## Dinamica sistemelor discrete\n",
    "\n"
   ]
  },
  {
   "cell_type": "markdown",
   "id": "3d68a4bd",
   "metadata": {
    "editable": true,
    "slideshow": {
     "slide_type": ""
    },
    "tags": [
     "hide-input",
     "remove-cell"
    ]
   },
   "source": [
    "\\newcommand{\\vecv}{\\overrightarrow{v}}\n",
    "\n",
    "\\newcommand{\\vecu}{\\overrightarrow{u}}\n",
    "\n",
    "\\newcommand{\\vecx}{\\overrightarrow{x}}"
   ]
  },
  {
   "cell_type": "markdown",
   "id": "f6a97935",
   "metadata": {
    "editable": true,
    "slideshow": {
     "slide_type": ""
    },
    "tags": []
   },
   "source": [
    "Să presupunem pentru început că avem un sistem dat de o matrice diagonală. Adică un sistem \n",
    "$$\n",
    "\\begin{aligned}\n",
    "x_{n+1} & = & a \\cdot x_{n} \\\\\n",
    "y_{n+1} & = & d \\cdot y_{n}\n",
    "\\end{aligned}\n",
    "$$\n",
    "cu valorile inițiale  pozitive $(x_0,y_0)$. Dacă facem cîteva iterații vedem că $x_1=a\\cdot x_0$, $x_2=ax_1=a^2x_0$, $x_3=a^3x_0$ etc. Deci în general\n",
    "$x_n=a^nx_0$ și la fel $y_n=d^ny_0$. Studiem comportamentul pe termen lung al lui $x_n$ (cel al lui $y_n$ este identic). \n",
    " - Dacă $|a| > 1$ și $x_0 > 0$, atunci \n",
    "      $$\n",
    "      \\lim_{n \\to \\infty} x_n=x_0 \\lim_{n\\to\\infty} a^n = \\infty;\n",
    "      $$\n",
    " - Dacă $|a|=1,$ atunci $x_n=\\pm x_0$ și avem un punct fix sau unul periodic cu perioadă $2$;\n",
    " - Dacă $|a| < 1$ atunci \n",
    "     $$\n",
    "     \\lim_{n \\to \\infty} x_n =0.\n",
    "     $$\n",
    "La fel se întîmplă pentru $y_n$. Comportamentul va fi dat de compunerea celor două componente:\n",
    " - dacă ambii parametri au modulul mai mare decît $1$, atunci originea este un echilibru instabil;\n",
    " - dacă ambii parametri au modulul mai mic decăt $1$, atunci originea este un echilibru stabil;\n",
    " - dacă $|a| \\leq 1$ și $|d|>1$, atunci originea este un punct șa.\n",
    " Semnul fiecărui coeficient ne spune dacă sistemul va oscila în jurul unei axe. De exemplu dacă $a<0$, atunci sistemul va oscila\n",
    " în jurul axei $Oy$, adică $x_n$ va lua alternativ valori pozitive și negative. "
   ]
  },
  {
   "cell_type": "code",
   "execution_count": 1,
   "id": "a4032992-8c06-4cd0-af7c-1198fdc8a4c8",
   "metadata": {},
   "outputs": [
    {
     "data": {
      "application/vnd.jupyter.widget-view+json": {
       "model_id": "5b7a9004d2b94c078867e08399af4a02",
       "version_major": 2,
       "version_minor": 0
      },
      "text/plain": [
       "Interactive function <function <lambda> at 0x7fc29597b6a0> with 1 widget\n",
       "  itr: IntSlider(value=50, description='itr', min=1)"
      ]
     },
     "metadata": {},
     "output_type": "display_data"
    },
    {
     "data": {
      "text/plain": [
       "<function <lambda> at 0x7fc29597b6a0>"
      ]
     },
     "execution_count": 1,
     "metadata": {},
     "output_type": "execute_result"
    }
   ],
   "source": [
    "A(a,d)=matrix([[a,0],[0,d]])\n",
    "init=vector([1.1,0.5])\n",
    "def sys_orb(a,d,init,itr):\n",
    "    orb=[]\n",
    "    val=init\n",
    "    orb.append(val)\n",
    "    for i in range(itr):\n",
    "        val=A(a,d)*val\n",
    "        orb.append(val)\n",
    "    return orb\n",
    "def drw(a,d,init,itr):\n",
    "    title=f\"a={a:.1f},d={d:.1f}\"\n",
    "    points(sys_orb(a,d,init,itr),color='red',size=30,title=title).show()\n",
    "interact(lambda itr: drw(0.6,0.8,vector([1.2,1.2]),itr),itr=(1,100,1))"
   ]
  },
  {
   "cell_type": "code",
   "execution_count": 2,
   "id": "de749567",
   "metadata": {},
   "outputs": [
    {
     "data": {
      "application/vnd.jupyter.widget-view+json": {
       "model_id": "d55a174859064d7a95360b56da135652",
       "version_major": 2,
       "version_minor": 0
      },
      "text/plain": [
       "Interactive function <function <lambda> at 0x7fc29753c040> with 1 widget\n",
       "  itr: IntSlider(value=50, description='itr', min=1)"
      ]
     },
     "metadata": {},
     "output_type": "display_data"
    },
    {
     "data": {
      "text/plain": [
       "<function <lambda> at 0x7fc29753c040>"
      ]
     },
     "execution_count": 2,
     "metadata": {},
     "output_type": "execute_result"
    }
   ],
   "source": [
    "interact(lambda itr: drw(0.8,0.9,vector([0.2,0.2]),itr),itr=(1,100,1))"
   ]
  },
  {
   "cell_type": "code",
   "execution_count": 3,
   "id": "28c65acd",
   "metadata": {},
   "outputs": [
    {
     "data": {
      "application/vnd.jupyter.widget-view+json": {
       "model_id": "5e43ab761c024a2598b96dc77fe5e69d",
       "version_major": 2,
       "version_minor": 0
      },
      "text/plain": [
       "Interactive function <function <lambda> at 0x7fc294716200> with 1 widget\n",
       "  itr: IntSlider(value=50, description='itr', min=1)"
      ]
     },
     "metadata": {},
     "output_type": "display_data"
    },
    {
     "data": {
      "text/plain": [
       "<function <lambda> at 0x7fc294716200>"
      ]
     },
     "execution_count": 3,
     "metadata": {},
     "output_type": "execute_result"
    }
   ],
   "source": [
    "interact(lambda itr: drw(1.2,1.1,vector([1.1,0.5]),itr),itr=(1,100,1))"
   ]
  },
  {
   "cell_type": "code",
   "execution_count": 4,
   "id": "18ce2664",
   "metadata": {},
   "outputs": [
    {
     "data": {
      "application/vnd.jupyter.widget-view+json": {
       "model_id": "33d8aa5dacff4c05a3b315bf4c9886b6",
       "version_major": 2,
       "version_minor": 0
      },
      "text/plain": [
       "Interactive function <function <lambda> at 0x7fc2945ca160> with 1 widget\n",
       "  itr: IntSlider(value=50, description='itr', min=1)"
      ]
     },
     "metadata": {},
     "output_type": "display_data"
    },
    {
     "data": {
      "text/plain": [
       "<function <lambda> at 0x7fc2945ca160>"
      ]
     },
     "execution_count": 4,
     "metadata": {},
     "output_type": "execute_result"
    }
   ],
   "source": [
    "interact(lambda itr: drw(-1.2,1.1,vector([0.4,0.3]),itr),itr=(1,100,1))"
   ]
  },
  {
   "cell_type": "code",
   "execution_count": 5,
   "id": "4203ce4a",
   "metadata": {},
   "outputs": [
    {
     "data": {
      "application/vnd.jupyter.widget-view+json": {
       "model_id": "756019b703784c7198a4f10e55626488",
       "version_major": 2,
       "version_minor": 0
      },
      "text/plain": [
       "Interactive function <function <lambda> at 0x7fc2944f8f40> with 1 widget\n",
       "  itr: IntSlider(value=50, description='itr', min=1)"
      ]
     },
     "metadata": {},
     "output_type": "display_data"
    },
    {
     "data": {
      "text/plain": [
       "<function <lambda> at 0x7fc2944f8f40>"
      ]
     },
     "execution_count": 5,
     "metadata": {},
     "output_type": "execute_result"
    }
   ],
   "source": [
    "interact(lambda itr:drw(-1.2,-1.1,vector([0.4,0.3]),itr),itr=(1,100,1))"
   ]
  },
  {
   "cell_type": "code",
   "execution_count": 6,
   "id": "1ac85a55",
   "metadata": {},
   "outputs": [
    {
     "data": {
      "application/vnd.jupyter.widget-view+json": {
       "model_id": "f538eead9ccf46ac8d635a4e5bebeaad",
       "version_major": 2,
       "version_minor": 0
      },
      "text/plain": [
       "Interactive function <function <lambda> at 0x7fc2944d8e00> with 1 widget\n",
       "  itr: IntSlider(value=50, description='itr', min=1)"
      ]
     },
     "metadata": {},
     "output_type": "display_data"
    },
    {
     "data": {
      "text/plain": [
       "<function <lambda> at 0x7fc2944d8e00>"
      ]
     },
     "execution_count": 6,
     "metadata": {},
     "output_type": "execute_result"
    }
   ],
   "source": [
    "interact(lambda itr:drw(-0.5,1.1,vector([4,3]),itr),itr=(1,100,1))"
   ]
  },
  {
   "cell_type": "code",
   "execution_count": 7,
   "id": "0561d5a0",
   "metadata": {},
   "outputs": [
    {
     "data": {
      "application/vnd.jupyter.widget-view+json": {
       "model_id": "b7b9df3443dd4c469857757e810272b4",
       "version_major": 2,
       "version_minor": 0
      },
      "text/plain": [
       "Interactive function <function <lambda> at 0x7fc294716f20> with 1 widget\n",
       "  itr: IntSlider(value=50, description='itr', min=1)"
      ]
     },
     "metadata": {},
     "output_type": "display_data"
    },
    {
     "data": {
      "text/plain": [
       "<function <lambda> at 0x7fc294716f20>"
      ]
     },
     "execution_count": 7,
     "metadata": {},
     "output_type": "execute_result"
    }
   ],
   "source": [
    "interact(lambda itr:drw(1,0.5,vector([0.9,0.3]),itr),itr=(1,100,1))"
   ]
  },
  {
   "cell_type": "markdown",
   "id": "528710d1",
   "metadata": {},
   "source": [
    "Studiem acum cazul unei matrice generale. Vom presupune pentru început că matricea are două valori proprii reale $\\lambda_1$\n",
    "și $\\lambda_2$. Fie matricea\n",
    "$$\n",
    "A=\\left(\\begin{array}{cc} a & b \\\\ c & d\\end{array}\\right).\n",
    "$$\n",
    "Atunci sistemul discret este \n",
    "$$\n",
    "\\begin{aligned}\n",
    "x_{n+1} &=& ax_n & + & by_n \\\\\n",
    "y_{n+1} &=& cx_n & + & dy_n.\n",
    "\\end{aligned}\n",
    "$$\n",
    "\n",
    "Pentru că $A$ are două valori proprii va avea deci doi vectori proprii liniar independenți $\\vecv_1$ corespunzător lui $\\lambda_1$ și respectiv \n",
    "$\\vecv_2$ corespunzător lui $\\lambda_2.$ Dacă valoarea inițială are descompunerea \n",
    "$$\n",
    "\\left(\\begin{array}{cc} x_0 \\\\ y_0 \\end{array}\\right)=z_1\\vecv_1+z_2\\vecv_2,\n",
    "$$\n",
    "atunci\n",
    "$$\n",
    "A^n\\left(\\begin{array}{cc} x_0 \\\\ y_0 \\end{array}\\right)=\\lambda_1^n z_1\\vecv_1+\\lambda_2^nz_2\\vecv_2,\n",
    "$$\n",
    "deci ne regăsim în situația pe care am studiat-o mai sus. Prin urmare comportamentul sistemului este dat de valorile proprii, mai precis de comparația modulului acestora cu $1$ și de semnul lor. Mai precis dacă numim valoarea proprie cea mai mare în modul **dominantă**. Presupunem că dominantă este $\\lambda_2=:\\lambda_d$. Avem \n",
    "  - dacă $|\\lambda_d| > 1$ atunci originea este un echilibru instabil;\n",
    "  - dacă $|\\lambda_d| < 1$, atunci originea este un echilibru stabil;\n",
    "  - dacă $|\\lambda_d| = 1$, sistemul este stabil, dar vectorul propriu corespunzător lui $\\lambda_d$ este conservat, deci s-ar \n",
    "  putea să conveargă la un echilibru netrivial."
   ]
  },
  {
   "cell_type": "markdown",
   "id": "7f46a794",
   "metadata": {},
   "source": [
    "### Valori proprii complexe"
   ]
  },
  {
   "cell_type": "markdown",
   "id": "516428bf",
   "metadata": {},
   "source": [
    "Să presupunem acum că matricea $A$ are două valori proprii complexe. Acestea vor fi conjugate $\\lambda_1=\\alpha+i\\beta$ \n",
    "și $\\lambda_2=\\alpha-i\\beta.$ Considerăm acum matricea noastră ca acționînd pe $\\mathbb{C}^2.$ Fie $\\vecv$ un vector propriu\n",
    "pentru $\\lambda_1$. Acest vector este de forma $\\vecv=\\vecv_1+i\\vecv_2$, iar $\\vecv_1-i\\vecv_2$ este vector propriu pentru $\\lambda_2$. Avem\n",
    "$$\n",
    "A\\vecv=A\\vecv_1+iA\\vecv_2=\\lambda_1\\vecv\n",
    "$$\n",
    "Egalăm părțile reale între ele și pe cele imaginare și obținem\n",
    "$$\n",
    "\\begin{aligned}\n",
    "A\\vecv_1 & = & \\alpha\\vecv_1 & -& \\beta\\vecv_2 \\\\\n",
    "A\\vecv_2 & = & \\beta\\vecv_1 & +& \\alpha\\vecv_2.\n",
    "\\end{aligned}\n",
    "$$\n",
    "Deci în raport cu baza $\\left\\{\\vecv_1,\\vecv_2\\right\\}$ $A$ devine \n",
    "$$\n",
    "\\left(\\begin{array}{cc} \\alpha & \\beta \\\\\n",
    "-\\beta & \\alpha \\end{array}\\right).\n",
    "$$\n",
    "\n"
   ]
  },
  {
   "cell_type": "code",
   "execution_count": 8,
   "id": "b5ae55f3",
   "metadata": {},
   "outputs": [
    {
     "data": {
      "application/vnd.jupyter.widget-view+json": {
       "model_id": "13567637cc74460c814cfbb7ab104caa",
       "version_major": 2,
       "version_minor": 0
      },
      "text/plain": [
       "Interactive function <function <lambda> at 0x7fc29442e3e0> with 1 widget\n",
       "  itr: IntSlider(value=50, description='itr', min=1)"
      ]
     },
     "metadata": {},
     "output_type": "display_data"
    },
    {
     "data": {
      "text/plain": [
       "<function <lambda> at 0x7fc29442e3e0>"
      ]
     },
     "execution_count": 8,
     "metadata": {},
     "output_type": "execute_result"
    }
   ],
   "source": [
    "A(a,b)=matrix([[a,b],[-b,a]])\n",
    "init=vector([1.1,0.5])\n",
    "def sys_orb(a,b,init,itr):\n",
    "    orb=[]\n",
    "    val=init\n",
    "    orb.append(val)\n",
    "    for i in range(itr):\n",
    "        val=A(a,b)*val\n",
    "        orb.append(val)\n",
    "    return orb\n",
    "def drw(a,b,init,itr):\n",
    "    title=f\"a={a:.1f},b={b:.1f}\"\n",
    "    points(sys_orb(a,b,init,itr),color='red',size=30,title=title).show()\n",
    "interact(lambda itr: drw(1.1,1.2,vector([0.2,0.2]),itr),itr=(1,100,1))"
   ]
  },
  {
   "cell_type": "code",
   "execution_count": 9,
   "id": "92f17bc3",
   "metadata": {},
   "outputs": [
    {
     "data": {
      "application/vnd.jupyter.widget-view+json": {
       "model_id": "17b6b70e87094c528f35af6f42ff7b11",
       "version_major": 2,
       "version_minor": 0
      },
      "text/plain": [
       "Interactive function <function <lambda> at 0x7fc29450d080> with 1 widget\n",
       "  itr: IntSlider(value=50, description='itr', min=1)"
      ]
     },
     "metadata": {},
     "output_type": "display_data"
    },
    {
     "data": {
      "text/plain": [
       "<function <lambda> at 0x7fc29450d080>"
      ]
     },
     "execution_count": 9,
     "metadata": {},
     "output_type": "execute_result"
    }
   ],
   "source": [
    "interact(lambda itr: drw(0.9,0.3,vector([0.2,0.2]),itr),itr=(1,100,1))"
   ]
  },
  {
   "cell_type": "code",
   "execution_count": 10,
   "id": "36815fac",
   "metadata": {},
   "outputs": [
    {
     "data": {
      "application/vnd.jupyter.widget-view+json": {
       "model_id": "1eac7399e48149d598b988ccca006ae6",
       "version_major": 2,
       "version_minor": 0
      },
      "text/plain": [
       "Interactive function <function <lambda> at 0x7fc2942e5940> with 1 widget\n",
       "  itr: IntSlider(value=50, description='itr', min=1)"
      ]
     },
     "metadata": {},
     "output_type": "display_data"
    },
    {
     "data": {
      "text/plain": [
       "<function <lambda> at 0x7fc2942e5940>"
      ]
     },
     "execution_count": 10,
     "metadata": {},
     "output_type": "execute_result"
    }
   ],
   "source": [
    "interact(lambda itr: drw(cos(0.3),sin(0.3),vector([0.2,0.2]),itr),itr=(1,100,1))"
   ]
  },
  {
   "cell_type": "markdown",
   "id": "420caca0",
   "metadata": {},
   "source": [
    "În funcție de modulul valorii proprii $\\lambda_1$, care este egal cu cel al lui $\\lambda_2$ avem\n",
    "  - dacă $|\\lambda_1| > 1$ traiectoria este o spirală care pleacă din origine, deci originea este un echilibru instabil;\n",
    "  - dacă $|\\lambda_1| < 1$ traiectoria este o spirală care merge în origine, deci originea este un echilibru stabil;\n",
    "  - dacă $|\\lambda_1| = 1$ traiectoria este o rotație în jurul originii.\n",
    "\n",
    "Vom ignora cazul matricelor care nu au două valori proprii distincte, deoarece acestea nu apar în aplicații fiind cazuri \n",
    "instabile, deci printr-o perturbare mică devin diagonalizabile."
   ]
  },
  {
   "cell_type": "markdown",
   "id": "b528f167",
   "metadata": {},
   "source": [
    "## Exemple"
   ]
  },
  {
   "cell_type": "markdown",
   "id": "15100374",
   "metadata": {},
   "source": [
    "Revenim la modelul urșilor negri. Avem \n",
    "$$\n",
    "\\begin{aligned}\n",
    "J_{n+1} & = & 0.65 J_n & + & 0.5A_n \\\\\n",
    "A_{n+1} & = & 0.25 J_n & + & 0.9A_n.\n",
    "\\end{aligned}\n",
    "$$\n",
    "Matricea sistemului este\n",
    "$$\n",
    "M=\\left(\\begin{array}{cc}0,65 & 0,5 \\\\ 0,25 & 0,9\\end{array}\\right).\n",
    "$$\n",
    "Calculăm valorile proprii și obținem $1,15$ și $0.4$. Cele două valori proprii au $|\\lambda_1| > 1$ și $|\\lambda_2| < 1$. Originea este deci un punct șa.\n",
    "\n",
    "Calculăm vectorii proprii corespunzători. Prima direcție proprie satisface $A=J$, iar cea de-a doua $A=-J/2.$"
   ]
  },
  {
   "cell_type": "code",
   "execution_count": 25,
   "id": "89b1bff6",
   "metadata": {},
   "outputs": [
    {
     "name": "stdout",
     "output_type": "stream",
     "text": [
      "[0.4, 1.15]\n",
      "[(0.4, [(-0.8944271909999159, 0.4472135954999579)], 1), (1.15, [(-0.7071067811865475, -0.7071067811865475)], 1)]\n"
     ]
    }
   ],
   "source": [
    "M=matrix(RDF,[[0.65,0.5],[0.25,0.9]])\n",
    "print(M.eigenvalues())\n",
    "print(M.eigenvectors_right())"
   ]
  },
  {
   "cell_type": "code",
   "execution_count": 26,
   "id": "f7e88d08",
   "metadata": {},
   "outputs": [
    {
     "data": {
      "image/png": "[encoded data removed]",
      "text/plain": [
       "Graphics object consisting of 4 graphics primitives"
      ]
     },
     "metadata": {},
     "output_type": "display_data"
    }
   ],
   "source": [
    "A,J=var('A J')\n",
    "M=matrix(RDF,[[0.65,0.5],[0.25,0.9]])\n",
    "f(A)=A\n",
    "g(A)=-A/2\n",
    "p1=plot(f,(-150,150))\n",
    "p2=plot(g,(-150,150),color=\"magenta\")\n",
    "def sys_orb(M,init,itr):\n",
    "    orb=[]\n",
    "    val=init\n",
    "    orb.append(val)\n",
    "    for i in range(itr):\n",
    "        val=M*val\n",
    "        orb.append(val)\n",
    "    return orb\n",
    "p3=points(sys_orb(M,vector(CDF,[10,50]),10),size=30,color='red')\n",
    "p4=points(sys_orb(M,vector(CDF,[-100,50]),10),size=30,color='green')\n",
    "(p1+p2+p3+p4).show()"
   ]
  },
  {
   "cell_type": "markdown",
   "id": "a59c9861",
   "metadata": {},
   "source": [
    "Deci originea este un punct șa, direcția corespunzătoare valorii proprii $0,4$ va fi atrasă de origine."
   ]
  },
  {
   "cell_type": "markdown",
   "id": "b77392da",
   "metadata": {},
   "source": [
    "Modelul pentru un an prost este \n",
    "$$\n",
    "\\begin{aligned}\n",
    "J_{n+1} & = & 0.5 J_n & + & 0.4A_n \\\\\n",
    "A_{n+1} & = & 0.1 J_n & + & 0.8A_n.\n",
    "\\end{aligned}\n",
    "$$\n",
    "\n",
    "Matricea sistemului este \n",
    "$$\n",
    "M=\\left(\\begin{array}{cc}0,5 & 0,4 \\\\ 0,1 & 0,8\\end{array}\\right)\n",
    "$$\n",
    "cu valorile proprii $0,4$ și $0,9$. Deci originea este un nod stabil. Direcțiile proprii sînt $A=-J/4$ și respectiv $A=J$."
   ]
  },
  {
   "cell_type": "code",
   "execution_count": 24,
   "id": "0a482439",
   "metadata": {},
   "outputs": [
    {
     "name": "stdout",
     "output_type": "stream",
     "text": [
      "[(0.4, [(-0.9701425001453319, 0.24253562503633297)], 1), (0.9, [(-0.7071067811865475, -0.7071067811865475)], 1)]\n"
     ]
    }
   ],
   "source": [
    "M=matrix(RDF,[[0.5,0.4],[0.1,0.8]])\n",
    "print(M.eigenvectors_right())"
   ]
  },
  {
   "cell_type": "code",
   "execution_count": 29,
   "id": "992e94bf",
   "metadata": {},
   "outputs": [
    {
     "data": {
      "image/png": "[encoded data removed]",
      "text/plain": [
       "Graphics object consisting of 5 graphics primitives"
      ]
     },
     "metadata": {},
     "output_type": "display_data"
    }
   ],
   "source": [
    "A,J=var('A J')\n",
    "M=matrix(RDF,[[0.5,0.4],[0.1,0.8]])\n",
    "f(J)=J\n",
    "g(J)=-J/4\n",
    "p1=plot(f,(-150,150))\n",
    "p2=plot(g,(-150,150),color='magenta')\n",
    "def sys_orb(M,init,itr):\n",
    "    orb=[]\n",
    "    val=init\n",
    "    orb.append(val)\n",
    "    for i in range(itr):\n",
    "        val=M*val\n",
    "        orb.append(val)\n",
    "    return orb\n",
    "p3=points(sys_orb(M,vector(CDF,[10,50]),10),size=30,color='red')\n",
    "p4=points(sys_orb(M,vector(CDF,[-80,20]),10),size=30,color='green')\n",
    "p5=points(sys_orb(M,vector(CDF,[-80,-20]),10),size=30,color='yellow')\n",
    "(p1+p2+p3+p4+p5).show()"
   ]
  },
  {
   "cell_type": "markdown",
   "id": "0f12387d",
   "metadata": {},
   "source": [
    "Un al treilea exemplu va fi de comportament oscilatoriu. \n",
    "$$\n",
    "\\begin{aligned}\n",
    "J_{n+1} & = & 0.1 J_n & + & 1.4A_n \\\\\n",
    "A_{n+1} & = & 0.4 J_n & + & 0.2A_n.\n",
    "\\end{aligned}\n",
    "$$\n",
    "\n",
    "Matricea sistemului este \n",
    "$$\n",
    "M=\\left(\\begin{array}{cc}0,1 & 1,4 \\\\ 0,4 & 0,2\\end{array}\\right)\n",
    "$$\n",
    "cu valorile proprii $-0,6$ și $0,9$. De asemenea echilibrul este stabil, dar drumul spre echilibru este oscilant. Direcțiile proprii sînt $A=-J/2$ și $A=7J/4$."
   ]
  },
  {
   "cell_type": "code",
   "execution_count": 30,
   "id": "85942368",
   "metadata": {},
   "outputs": [
    {
     "name": "stdout",
     "output_type": "stream",
     "text": [
      "[(-0.6000000000000001, [(-0.8944271909999159, 0.4472135954999579)], 1), (0.8999999999999999, [(-0.8682431421244592, -0.49613893835683387)], 1)]\n"
     ]
    }
   ],
   "source": [
    "M=matrix(RDF,[[0.1,1.4],[0.4,0.2]])\n",
    "print(M.eigenvectors_right())"
   ]
  },
  {
   "cell_type": "code",
   "execution_count": 33,
   "id": "8bec8eda",
   "metadata": {},
   "outputs": [
    {
     "data": {
      "image/png": "[encoded data removed]",
      "text/plain": [
       "Graphics object consisting of 7 graphics primitives"
      ]
     },
     "metadata": {},
     "output_type": "display_data"
    }
   ],
   "source": [
    "A,J=var('A J')\n",
    "M=matrix(RDF,[[0.1,1.4],[0.4,0.2]])\n",
    "f(J)=4*J/7\n",
    "g(J)=-J/2\n",
    "p1=plot(f,(-150,150))\n",
    "p2=plot(g,(-150,150),color='magenta')\n",
    "def sys_orb(M,init,itr):\n",
    "    orb=[]\n",
    "    val=init\n",
    "    orb.append(val)\n",
    "    for i in range(itr):\n",
    "        val=M*val\n",
    "        orb.append(val)\n",
    "    return orb\n",
    "p3=points(sys_orb(M,vector(CDF,[30,100]),15),size=30,color='red')\n",
    "p5=line(sys_orb(M,vector(CDF,[30,100]),15),color='black',linestyle=\"--\")\n",
    "p4=points(sys_orb(M,vector(CDF,[-80,40]),15),size=30,color='green')\n",
    "p6=points(sys_orb(M,vector(CDF,[-80,10]),15),size=30,color='yellow')\n",
    "p7=line(sys_orb(M,vector(CDF,[-80,10]),15),color='black',linestyle=\"--\")\n",
    "(p1+p2+p3+p4+p5+p6+p7).show()"
   ]
  },
  {
   "cell_type": "markdown",
   "id": "796b68ea",
   "metadata": {},
   "source": [
    "### Echilibre neutre."
   ]
  },
  {
   "cell_type": "markdown",
   "id": "89acf25e",
   "metadata": {},
   "source": [
    "Modelul $S-I$ pe care l-am studiat mai demult era de forma\n",
    "$$\n",
    "\\begin{aligned}\n",
    "\\left(\\begin{array}{cc} S_{n+1} \\\\ I_{n+1}\\end{array}\\right)=\\left(\\begin{array}{cc} 1-a & b \\\\ a & 1-b\\end{array}\\right)\n",
    "\\left(\\begin{array}{cc} S_{n} \\\\ I_{n}\\end{array}\\right).\n",
    "\\end{aligned}\n",
    "$$\n",
    "Ecuația sa caracteristică este\n",
    "$$\n",
    "\\lambda^2-(2-a-b)\\lambda+(1-a-b)=0.\n",
    "$$\n",
    "\n",
    "Rădăcinile sale sînt $\\lambda_1=1$ și $\\lambda_2=1-a-b$. Direcțiile proprii sînt $S=bI/a$ și respectiv $S=-I$. Luăm spre exemplu \n",
    "$a=0,1$ și $b=0,2$."
   ]
  },
  {
   "cell_type": "code",
   "execution_count": 35,
   "id": "851f8b21",
   "metadata": {},
   "outputs": [
    {
     "data": {
      "image/png": "[encoded data removed]",
      "text/plain": [
       "Graphics object consisting of 5 graphics primitives"
      ]
     },
     "metadata": {},
     "output_type": "display_data"
    }
   ],
   "source": [
    "S,I=var('S I')\n",
    "M=matrix(RDF,[[0.9,0.2],[0.1,0.8]])\n",
    "f(I)=I/2\n",
    "g(I)=-I\n",
    "p1=plot(f,(-150,150))\n",
    "p2=plot(g,(-150,150),color='magenta')\n",
    "def sys_orb(M,init,itr):\n",
    "    orb=[]\n",
    "    val=init\n",
    "    orb.append(val)\n",
    "    for i in range(itr):\n",
    "        val=M*val\n",
    "        orb.append(val)\n",
    "    return orb\n",
    "p3=points(sys_orb(M,vector(CDF,[30,100]),15),size=30,color='red')\n",
    "p5=line(sys_orb(M,vector(CDF,[30,100]),15),color='black',linestyle=\"--\")\n",
    "p4=points(sys_orb(M,vector(CDF,[-80,80]),15),size=30,color='green')\n",
    "p6=points(sys_orb(M,vector(CDF,[80,40]),15),size=30,color='orange')\n",
    "(p1+p2+p3+p4+p6).show()"
   ]
  },
  {
   "cell_type": "markdown",
   "id": "a54ae578",
   "metadata": {},
   "source": [
    "Se vede că iterațiile sînt atrase de direcția corespunzătoare lui $1$, paralel cu cealaltă direcție proprie."
   ]
  },
  {
   "cell_type": "markdown",
   "id": "8394af60",
   "metadata": {},
   "source": [
    "## Sisteme de ecuații diferențiale liniare"
   ]
  },
  {
   "cell_type": "markdown",
   "id": "6f5aa563",
   "metadata": {},
   "source": [
    "Am văzut mai demult că pentru un sistem liniar decuplat\n",
    "$$\n",
    "\\begin{aligned}\n",
    "x' & = & ax \\\\\n",
    "y' & = & dy\n",
    "\\end{aligned}\n",
    "$$\n",
    "Soluția acestui sistem este $\\left(x(t),y(t)\\right)=\\left(x_0e^{at},y_0e^{dt}\\right).$\n",
    "Semnul coeficienților dă stabilitatea după cum am văzut în [cursul 5](Cursul5.ipynb):\n",
    "  - $a > 0$ și $d > 0$ atunci originea este un echilibru instabil;\n",
    "  - $a < 0$ și $d > 0$ sau invers, atunci originea este un punct șa;\n",
    "  - $a < 0$ și $d < 0$ atunci originea este un echilibru stabil.\n",
    "  \n",
    "Trecem acum la cazul general. Pentru început presupunem că matricea sistemului este\n",
    "$$\n",
    "A=\\left(\\begin{array}{cc} a & b \\\\ c & d \\end{array}\\right)\n",
    "$$\n",
    "cu două valori proprii distincte $\\lambda_1$ și $\\lambda_2$ cu vectorii proprii $\\vecv_1$, respectiv $\\vecv_2$. Orice soluție \n",
    "a sistemului de ecuații diferențiale este de forma\n",
    "$$\n",
    "\\left(x(t),y(t)\\right)=c_1e^{\\lambda_1t}\\vecv_1+c_2e^{\\lambda_2t}\\vecv_2,\n",
    "$$\n",
    "constantele fiind determinate de valorile inițiale. Să presupunem că valoarea proprie dominantă este $\\lambda_1$. Aunci soluția \n",
    "poate fi rescrisă\n",
    "$$\n",
    "\\left(x(t),y(t)\\right)=e^{\\lambda_1t}\\left(c_1\\vecv_1+c_2e^{(\\lambda_2-\\lambda_1)t}\\vecv_2\\right).\n",
    "$$\n",
    "Coeficientul lui $\\vecv_2$ tinde la $0$. Deci comportamentul la infinit va fi determinat de $\\lambda_1$. În rezumat:\n",
    " - Dacă $\\lambda_1 < 0$ atunci originea este un echilibru stabil;\n",
    " - Dacă $\\lambda_1 > 0$ și $\\lambda_2 < 0$, atunci avem un punct șa;\n",
    " - Dacă ambele valori proprii sînt pozitive, originea este pur instabilă (sursă).\n",
    "\n",
    "Studiem acum cazul a două valori proprii complexe $\\lambda_{1,2}=\\alpha\\pm\\beta i$. Atunci am văzut că există o bază (formată\n",
    "din părțile reală și imaginară a vectorului propriu corespunzător uneia din valorile proprii) în raport cu care matricea \n",
    "sistemului este\n",
    "$$\n",
    "M=\\left(\\begin{array}{cc}\\alpha & \\beta \\\\ -\\beta & \\alpha\\end{array}\\right).\n",
    "$$\n",
    "Din nou ne gîndim că matricea $M:\\mathbb{C}^2 \\to \\mathbb{C}^2$. Soluția generală a sistemului este\n",
    "$$\n",
    "\\vecx(t)=e^{(\\alpha+i\\beta)t}\\vecv=e^{(\\alpha+i\\beta)t}(\\vecv_1+i\\vecv_2)=e^{\\alpha t}\\left(\\cos(\\beta t) + i\\sin(\\beta t)\\right)\n",
    "(\\vecv_1+i\\vecv_2).\n",
    "$$\n",
    "Va trebui să revenim în spațiul real. O soluție a sistemului va fi o combinație liniară a părților reală și imaginară din \n",
    "expresia de mai sus:\n",
    "$$\n",
    "\\left(x(t),y(t)\\right)=e^{\\alpha t}\\left[c_1\\left(\\cos(\\beta t)\\vecv_1-\\sin(\\beta t)\\vecv_2\\right)+c_2\\left(\\sin(\\beta t)\\vecv_1\n",
    "+\\cos(\\beta t)\\vecv_2\\right)\\right].\n",
    "$$\n",
    "\n",
    "În concluzie ambele valori proprii au aceeași parte reală $ \\alpha$ care determină comportamentul sistemului:\n",
    " - Dacă $\\alpha < 0$ orbitele sistemului sînt spirale care se duc în origine;\n",
    " - Dacă $\\alpha > 0$ orbitele sistemului sînt spirale care se îndepărtează de origine;\n",
    " - Dacă $\\alpha=0$ orbitele sînt închise în jurul originii, spunem că originea este un centru."
   ]
  },
  {
   "cell_type": "code",
   "execution_count": 40,
   "id": "2ba23d03",
   "metadata": {},
   "outputs": [
    {
     "data": {
      "image/png": "[encoded data removed]",
      "text/plain": [
       "Graphics object consisting of 2 graphics primitives"
      ]
     },
     "metadata": {},
     "output_type": "display_data"
    }
   ],
   "source": [
    "v,x=var('x y')\n",
    "a= 0\n",
    "b= 0.3\n",
    "f(x,v)=matrix([a*x+b*y,-b*x+a*y])\n",
    "fd=[a*x+b*y,-b*x+a*y]\n",
    "init=[0.01,0.01]\n",
    "sol=desolve_odeint(fd,init,srange(0,50,0.1),[x,y])\n",
    "p=line(zip(sol[:,0],sol[:,1]))\n",
    "pt=points(init,color='red',size=10)\n",
    "(p+pt).show(aspect_ratio=1)"
   ]
  },
  {
   "cell_type": "code",
   "execution_count": null,
   "id": "98a52303",
   "metadata": {},
   "outputs": [],
   "source": []
  }
 ],
 "metadata": {
  "kernelspec": {
   "display_name": "SageMath 10.1",
   "language": "sage",
   "name": "sagemath-dev"
  },
  "language_info": {
   "codemirror_mode": {
    "name": "ipython",
    "version": 3
   },
   "file_extension": ".py",
   "mimetype": "text/x-python",
   "name": "python",
   "nbconvert_exporter": "python",
   "pygments_lexer": "ipython3",
   "version": "3.11.6"
  }
 },
 "nbformat": 4,
 "nbformat_minor": 5
}
