version https://git-lfs.github.com/spec/v1
oid sha256:f89d1873997e19796da764ad0fd97fd2e3950ef55a8a9153cf5be38c0093c4b1
size 38790
