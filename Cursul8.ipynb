{
 "cells": [
  {
   "cell_type": "markdown",
   "id": "0be1247e",
   "metadata": {},
   "source": [
    "## Vectori și valori proprii"
   ]
  },
  {
   "cell_type": "markdown",
   "id": "e5b6bdd0",
   "metadata": {},
   "source": [
    "$$\\newcommand{\\vecvv}{\\overrightarrow{v}}$$\n",
    "\n",
    "$$\\newcommand{\\vecvu}{\\overrightarrow{u}}$$"
   ]
  },
  {
   "cell_type": "markdown",
   "id": "96673fa0",
   "metadata": {},
   "source": [
    "Pînă acum am văzut că un sistem liniar discret poate avea diferite comportamente, dar am observat acest lucru empiric, iterînd matricea de un număr mare de ori. Astăzi vom vedea cum putem determina riguros comportamentul. Pentru aceasta avem nevoie să studiem valorile și vectorii proprii.\n",
    "\n",
    "Să luăm pentru început o funcție de două variabile formată din două funcții de o singură variabilă:\n",
    "$$\n",
    "f\\left(\\begin{array}{c} x_1 \\\\ x_2 \\end{array}\\right)=\\left(\\begin{array}{c} a_1x_1 \\\\ a_2x_2 \\end{array}\\right),\n",
    "$$\n",
    "adică $f$ are matricea diagonală\n",
    "$$\n",
    "\\left(\\begin{array}{cc} a_1 & 0 \\\\ 0 & a_2 \\end{array}\\right).\n",
    "$$\n",
    "Această funcție acționează prin înmulțirea cu fiecărei componente cu o valoare. Dacă matricea unui sistem discret liniar este diagonală, atunci\n",
    "cele două obiecte pe care le modelăm nu vor interacționa unul cu celălalt.\n",
    "\n",
    "În general, o matrice nu va acționa atît de simplu prin multiplicarea de-a lungul axelor. Tot ce putem spera este să găsim alte două direcții, \n",
    "pe care matricea să acționeze prin multiplicare. Concret avem nevoie să găsim o bază $\\left\\{\\overrightarrow{v_1},\\overrightarrow{v_2}\\right\\}$\n",
    "pentru care \n",
    "$$\n",
    "\\begin{aligned}\n",
    "A\\cdot\\overrightarrow{v_1} & = & \\lambda_1\\overrightarrow{v_1} \\\\\n",
    "A\\cdot\\overrightarrow{v_2} & = & \\lambda_2\\vecvv_2 \n",
    "\\end{aligned} \n",
    "$$\n",
    "Vectorii nenuli cu acestă proprietate se numesc **vectori proprii**, iar numerele $\\lambda_1$ și $\\lambda_2$ se numesc **valori proprii**.\n",
    "\n",
    "Ca să găsim vectorii și valorile proprii avem de rezolvat un sistem liniar de forma\n",
    "$$\n",
    "A\\vecvv = \\lambda\\vecvv,\n",
    "$$\n",
    "dar valoarea lui $\\lambda$ este de asemenea necunoscută. Să presupunem că \n",
    "$$\n",
    "A = \\left(\\begin{array}{cc} a & b \\\\ c & d\\end{array}\\right)\n",
    "$$\n",
    "și\n",
    "$$\n",
    "\\vecvv=\\left(\\begin{array}{c} x \\\\ y\\end{array}\\right).\n",
    "$$\n",
    "Atunci\n",
    "$$\n",
    "\\begin{aligned}\n",
    "ax & + & by & = & \\lambda x \\\\\n",
    "cx & + & dy & = & \\lambda y.\n",
    "\\end{aligned}\n",
    "$$\n",
    "Din prima ecuație rezultă că \n",
    "$$\n",
    "x=\\frac{by}{\\lambda-a}.\n",
    "$$\n",
    "Înlocuim în a doua ecuație și obținem\n",
    "$$\n",
    "cb=\\lambda^2-a\\lambda-d\\lambda+ad,\n",
    "$$\n",
    "echivalent\n",
    "$$\n",
    "\\lambda^2-(a+d)\\lambda+ad-cd=0.\n",
    "$$\n",
    "\n",
    "Această ecuație se numește **ecuația caracteristică** a lui $A$. Valorile proprii ale lui $A$ sînt rădăcinile ei. Rezolvînd această ecuație de \n",
    "gradul 2 obținem cele două valori proprii $\\lambda_1$ și $\\lambda_2$. Cunoscînd valorile proprii putem calcula vectorii proprii.\n",
    "\n",
    "Vom lucra pe un exemplu concret. Luăm matricea \n",
    "$$\n",
    "A=\\left(\\begin{array}{cc} 1 & 2 \\\\ 4 & 3\\end{array}\\right).\n",
    "$$\n",
    "\n",
    "Valorile sale proprii sÎnt $-1$ și $5$. Căutăm vectori proprii pentru $-1$. Vectorul necunoscut va fi \n",
    "$$\n",
    "\\vecvv=\\left(\\begin{array}{c}x \\\\ y\\end{array}\\right).\n",
    "$$\n",
    "Avem\n",
    "$$\n",
    "A\\cdot \\vecvv = -\\vecvv \\text{ echivalent } A\\left(\\begin{array}{c}x \\\\ y\\end{array}\\right)=-\\left(\\begin{array}{c}x \\\\ y\\end{array}\\right).\n",
    "$$\n",
    "Dacă explicităm produsul și trecem totul în membrul stîng obținem\n",
    "$$\n",
    "\\left(\\begin{array}{cc} 2x + 2y \\\\ 4x +4y\\end{array}\\right)=\\left(\\begin{array}{c} 0  \\\\  0\\end{array}\\right).\n",
    "$$\n",
    "Deci vectorii proprii se află pe direcția de ecuație $x+y=0$. Putem alege orice vector nenul de pe această dreaptă, de exemplu $(1,-1)$. \n",
    "\n",
    "În mod analog un vector propriu corespunzător valorii proprii $5$, va fi $(1,2)$. Am găsit astfel două direcții în raport cu care matricea \n",
    "devine diagonală.\n",
    "\n",
    "Pentru a studia acțiunea lui $A$ folosind descompunerea după vectori proprii mai întîi descompunem un vector în raport cu baza de vectori proprii, calculăm acțiunea lui $A$, apoi revenim la baza inițială. \n",
    "\n",
    "Să luăm două baze ale lui $\\mathbb{R}^2$: $\\mathcal{B}_1=\\left\\{\\vecvv_1,\\vecvv_2 \\right\\}$ și $\\mathcal{B}_2=\\left\\{\\vecvu_1,\\vecvu_2 \n",
    "\\right\\}.$ Dacă un vector are $\\vecvv$ are componentele $(x,y)$ în raport cu prima bază, vrem să aflăm componentele sale $(x',y')$ în raport cu \n",
    "a doua bază. Vom găsi o matrice care înmulțită cu componentele vectorului în prima bază ne va da componentele în baza a doua. \n",
    "\n",
    "Concret începem prin a descompune vectorii din $\\mathcal{B}_1$ în raport cu cei din baza $\\mathcal{B}_2$. Adică există $a,b,c,d$ astfel încît\n",
    "$$\n",
    "\\begin{aligned}\n",
    "\\vecvv_1 & = & a\\vecvu_1 & + & b\\vecvu_2 \\\\\n",
    "\\vecvv_2 & = & c\\vecvu_1 & + & d\\vecvu_2. \\\\\n",
    "\\end{aligned}\n",
    "$$\n",
    "Scriem descompunerea vectorului $\\vecvv$ în raport cu baza $\\mathcal{B}_1$, apoi substituim formulele precedente. Obținem\n",
    "$$\n",
    "\\left(\\begin{array}{c}x' \\\\ y'\\end{array}\\right)=\\left(\\begin{array}{cc}a & c \\\\ b & d\\end{array}\\right)\n",
    "\\left(\\begin{array}{c}x \\\\ y\\end{array}\\right).\n",
    "$$\n",
    "Mai rămîne să veedem cum determinăm coeficienții matricei. Notăm componentele elementelor din baza $\\mathcal{B}_1$ cu\n",
    "$$\n",
    "\\vecvv_i  = \\left(\\begin{array}{c}v_{1i} \\\\ v_{2i} \\end{array}\\right)\n",
    "$$\n",
    "și la fel pentru a doua bază\n",
    "$$\n",
    "\\vecvu_i  = \\left(\\begin{array}{c}u_{1i} \\\\ u_{2i} \\end{array}\\right).\n",
    "$$\n",
    "Avem deci\n",
    "$$\n",
    "\\left(\\begin{array}{c}v_{11} \\\\ v_{21} \\end{array}\\right)=a\\left(\\begin{array}{c}u_{11} \\\\ u_{21} \\end{array}\\right)+b\\left(\\begin{array}{c}\n",
    "u_{12} \\\\ u_{22} \\end{array}\\right)  \n",
    "$$\n",
    "și\n",
    "$$\n",
    "\\left(\\begin{array}{c}v_{12} \\\\ v_{22} \\end{array}\\right)=c\\left(\\begin{array}{c}u_{11} \\\\ u_{21} \\end{array}\\right)+d\\left(\\begin{array}{c}\n",
    "u_{12} \\\\ u_{22} \\end{array}\\right).  \n",
    "$$\n",
    "Necunoscutele sînt $a,b,c$ și $d$. Matricial scriem\n",
    "$$\n",
    "\\left(\\begin{array}{cc}v_{11} & v_{12} \\\\ v_{21} & v_{22} \\end{array}\\right)= \\left(\\begin{array}{cc}u_{11} & u_{12} \\\\ u_{21} & u_{22} \\end{array}\\right)\n",
    "\\left(\\begin{array}{cc} a & c \\\\ b & d \n",
    "\\end{array}\\right). \n",
    "$$\n",
    "Deci \n",
    "$$\n",
    "\\left(\\begin{array}{cc} a & c \\\\ b & d \\end{array}\\right) = \\left(\\begin{array}{cc}u_{11} & u_{12} \\\\ u_{21} & u_{22} \\end{array}\\right)^{-1}\n",
    "\\left(\\begin{array}{cc}v_{11} & v_{12} \\\\ v_{21} & v_{22} \\end{array}\\right). \n",
    "$$\n",
    "\n",
    "Revenim la matricea $A$. Luăm un punct test $\\overrightarrow{p}=\\left(\\begin{array}{c}1 \\\\ 0.5\\end{array}\\right).$ Vrem să vedem acțiunea lui $A$\n",
    "asupra lui $\\overrightarrow{p}.$ Vom descompune $\\overrightarrow{p}$ după cele două direcții proprii ale lui $A$. $\\overrightarrow{p}$ are \n",
    "componentele $1$ și $0,5$ în raport cu baza canonică. A doua bază este formată din vectori proprii:\n",
    "$$\n",
    "\\left\\{\\left(\\begin{array}{c} 1 \\\\ 2\\end{array}\\right),\\left(\\begin{array}{c} 1 \\\\ -1\\end{array}\\right) \\right\\},\n",
    "$$ \n",
    "componentele lui $\\overrightarrow{p}$ în raport cu această bază sînt \n",
    "$$\n",
    "\\left(\\begin{array}{cc} 1 & 1 \\\\ 2 & -1\\end{array}\\right)^{-1}\\left(\\begin{array}{c}1 \\\\ 0.5\\end{array}\\right)=\\left(\\begin{array}{c} 0.5\\\\ \n",
    "0.5\\end{array}\\right) .  \n",
    "$$\n",
    "Deci componentele lui $A\\overrightarrow{p}$ în raport cu această bază sînt\n",
    "$$\n",
    "\\left(\\begin{array}{c} 5\\cdot 0.5\\\\ -1\\cdot 0.5\\end{array}\\right) = \\left(\\begin{array}{c} 2.5\\\\ -0.5\\end{array}\\right)=\n",
    "\\frac{5}{2}\\left(\\begin{array}{c}1 \\\\ 2 \\end{array}\\right)-\\frac{1}{2}\\left(\\begin{array}{c}1 \\\\ -1 \\end{array}\\right)  \n",
    "$$\n",
    "Ultima expresie este forma lui $A\\cdot\\overrightarrow{p}$ în raport cu baza canonică."
   ]
  },
  {
   "cell_type": "markdown",
   "id": "a08a8493",
   "metadata": {},
   "source": [
    "## Nu toate matricele sînt diagonalizabile"
   ]
  },
  {
   "cell_type": "markdown",
   "id": "45fb507f",
   "metadata": {},
   "source": [
    "Sînt două situații în care matricele nu sînt diagonalizabile. Vom ilustra aceste situații prin două exemple.\n",
    "\n",
    "Pentru început luăm matricea \n",
    "$$\n",
    "\\left(\\begin{array}{cc} 0 & 1 \\\\ -1 & -1 \\end{array}\\right).\n",
    "$$\n",
    "Polinomul său caracteristic este $\\lambda^2+\\lambda+1$. Acesta are două rădăcini complexe \n",
    "$$\n",
    "\\frac{-1\\pm\\sqrt{3}i}{2},\n",
    "$$\n",
    "deci nu există vectori proprii.\n",
    "\n",
    "O altă situație care apare este exemplificată de matricea \n",
    "$$\n",
    "\\left(\\begin{array}{cc} 2 & -4 \\\\ 0 & 2 \\end{array}\\right).\n",
    "$$\n",
    "În această situație avem o valoare proprie reală, egală cu $2$, dar o singură direcție proprie."
   ]
  },
  {
   "cell_type": "code",
   "execution_count": 1,
   "id": "8e7f20fb",
   "metadata": {
    "vscode": {
     "languageId": "plaintext"
    }
   },
   "outputs": [
    {
     "name": "stdout",
     "output_type": "stream",
     "text": [
      "[5, -1]\n",
      "[(5, [\n",
      "(1, 2)\n",
      "], 1), (-1, [\n",
      "(1, -1)\n",
      "], 1)]\n"
     ]
    },
    {
     "data": {
      "text/plain": [
       "[ 1/3  1/3]\n",
       "[ 2/3 -1/3]"
      ]
     },
     "execution_count": 1,
     "metadata": {},
     "output_type": "execute_result"
    }
   ],
   "source": [
    "A=matrix([[1,2],[4,3]])\n",
    "p=vector([1,0.5])\n",
    "print(A.eigenvalues())\n",
    "print(A.eigenvectors_right())\n",
    "M=matrix([[1,1],[2,-1]])\n",
    "M.inverse()"
   ]
  },
  {
   "cell_type": "code",
   "execution_count": 2,
   "id": "0ddf9a61",
   "metadata": {
    "vscode": {
     "languageId": "plaintext"
    }
   },
   "outputs": [
    {
     "data": {
      "text/plain": [
       "x^2 - 4*x + 4"
      ]
     },
     "execution_count": 2,
     "metadata": {},
     "output_type": "execute_result"
    }
   ],
   "source": [
    "A=matrix([[2,-4],[0,2]])\n",
    "A.charpoly()"
   ]
  },
  {
   "cell_type": "code",
   "execution_count": 3,
   "id": "94975a50",
   "metadata": {},
   "outputs": [
    {
     "data": {
      "text/plain": [
       "[2, 2]"
      ]
     },
     "execution_count": 3,
     "metadata": {},
     "output_type": "execute_result"
    }
   ],
   "source": [
    "A.eigenvalues()"
   ]
  },
  {
   "cell_type": "code",
   "execution_count": 4,
   "id": "0b73fd6d",
   "metadata": {},
   "outputs": [
    {
     "data": {
      "text/plain": [
       "[(2,\n",
       "  [\n",
       "  (0, 1)\n",
       "  ],\n",
       "  2)]"
      ]
     },
     "execution_count": 4,
     "metadata": {},
     "output_type": "execute_result"
    }
   ],
   "source": [
    "A.eigenvectors_left()"
   ]
  },
  {
   "cell_type": "code",
   "execution_count": 5,
   "id": "d7cdd9a6",
   "metadata": {},
   "outputs": [
    {
     "data": {
      "text/plain": [
       "[2 1]\n",
       "[0 2]"
      ]
     },
     "execution_count": 5,
     "metadata": {},
     "output_type": "execute_result"
    }
   ],
   "source": [
    "A.jordan_form()"
   ]
  },
  {
   "cell_type": "code",
   "execution_count": 3,
   "id": "c9fe36f7",
   "metadata": {},
   "outputs": [],
   "source": [
    "B=matrix([[0,1],[-1,-1]])"
   ]
  },
  {
   "cell_type": "code",
   "execution_count": 4,
   "id": "81d0d65f",
   "metadata": {},
   "outputs": [
    {
     "data": {
      "text/plain": [
       "[-0.50000000000000000? - 0.866025403784439?*I, -0.50000000000000000? + 0.866025403784439?*I]"
      ]
     },
     "execution_count": 4,
     "metadata": {},
     "output_type": "execute_result"
    }
   ],
   "source": [
    "B.eigenvalues()"
   ]
  },
  {
   "cell_type": "code",
   "execution_count": 5,
   "id": "f674d842",
   "metadata": {},
   "outputs": [
    {
     "data": {
      "text/plain": [
       "(1, -2)"
      ]
     },
     "execution_count": 5,
     "metadata": {},
     "output_type": "execute_result"
    }
   ],
   "source": [
    "P=vector([1,1])\n",
    "B*P"
   ]
  },
  {
   "cell_type": "code",
   "execution_count": 6,
   "id": "a5757799",
   "metadata": {},
   "outputs": [
    {
     "data": {
      "image/png": "[encoded data removed]",
      "text/plain": [
       "Graphics object consisting of 2 graphics primitives"
      ]
     },
     "metadata": {},
     "output_type": "display_data"
    }
   ],
   "source": [
    "P=vector([0,1])\n",
    "P1=point(P)\n",
    "P2=point(B*P,color='red')\n",
    "(P1+P2).show()"
   ]
  },
  {
   "cell_type": "code",
   "execution_count": null,
   "id": "58dbf4d0",
   "metadata": {},
   "outputs": [],
   "source": []
  }
 ],
 "metadata": {
  "kernelspec": {
   "display_name": "SageMath 9.7",
   "language": "sage",
   "name": "sagemath"
  },
  "language_info": {
   "codemirror_mode": {
    "name": "ipython",
    "version": 3
   },
   "file_extension": ".py",
   "mimetype": "text/x-python",
   "name": "python",
   "nbconvert_exporter": "python",
   "pygments_lexer": "ipython3",
   "version": "3.11.6"
  }
 },
 "nbformat": 4,
 "nbformat_minor": 5
}
