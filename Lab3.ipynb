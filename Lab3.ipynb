version https://git-lfs.github.com/spec/v1
oid sha256:b5c40ce7b13bcf81fea453432a39b6d7702418aacfa3732fa3d2ba9f5fead8fb
size 8136
