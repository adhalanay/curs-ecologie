version https://git-lfs.github.com/spec/v1
oid sha256:225133aca6e1ca7b171c57a2f8d2cd9dd52d7b50b0e180f47b0a622a642a4788
size 280721
